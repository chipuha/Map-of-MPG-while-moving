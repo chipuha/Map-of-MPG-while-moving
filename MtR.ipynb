{
 "cells": [
  {
   "cell_type": "code",
   "execution_count": 2,
   "metadata": {},
   "outputs": [],
   "source": [
    "import pandas as pd\n",
    "import json\n",
    "import geopandas as gpd\n",
    "import matplotlib.pyplot as plt\n",
    "from IPython.display import Markdown, display\n",
    "import html\n",
    "\n",
    "filename = \"Takeout\\Location History\\Location History.JSON\""
   ]
  },
  {
   "cell_type": "markdown",
   "metadata": {},
   "source": [
    "The takeout location history is pretty large and hard to deal with so I did my best to only do it once.  Once a dataset was converted to a pandas dataframe it was pretty easy to work with and was saved in a pickle file for future use."
   ]
  },
  {
   "cell_type": "code",
   "execution_count": 6,
   "metadata": {},
   "outputs": [
    {
     "name": "stdout",
     "output_type": "stream",
     "text": [
      "(2332682, 13)\n",
      "Index(['timestampMs', 'latitudeE7', 'longitudeE7', 'accuracy', 'activity',\n",
      "       'velocity', 'heading', 'altitude', 'verticalAccuracy', 'DateTime',\n",
      "       'Date', 'latitude', 'longitude'],\n",
      "      dtype='object')\n"
     ]
    }
   ],
   "source": [
    "#open json file and convert to pandas dataframe\n",
    "with open(filename) as json_file:\n",
    "    data = json.load(json_file)\n",
    "df = pd.json_normalize(data['locations'])\n",
    "\n",
    "#convert millisecond time stamp to something readable for future filtering\n",
    "df['DateTime'] = pd.to_datetime(df['timestampMs'], unit='ms')\n",
    "df['Date']=df['DateTime'].dt.strftime('%Y-%m-%d')\n",
    "\n",
    "#convert lat and long to non-scientific notation\n",
    "df['latitude'] = df['latitudeE7']/10000000\n",
    "df['longitude'] = df['longitudeE7']/10000000\n",
    "print(df.shape)\n",
    "print(df.columns)"
   ]
  },
  {
   "cell_type": "code",
   "execution_count": 39,
   "metadata": {},
   "outputs": [],
   "source": [
    "#save so cell above doesn't need to be run again\n",
    "df.to_pickle('LocationHistorydf.pkl')"
   ]
  },
  {
   "cell_type": "markdown",
   "metadata": {},
   "source": [
    "## Start Here"
   ]
  },
  {
   "cell_type": "code",
   "execution_count": 7,
   "metadata": {},
   "outputs": [
    {
     "name": "stdout",
     "output_type": "stream",
     "text": [
      "(2332682, 13)\n",
      "Index(['timestampMs', 'latitudeE7', 'longitudeE7', 'accuracy', 'activity',\n",
      "       'velocity', 'heading', 'altitude', 'verticalAccuracy', 'DateTime',\n",
      "       'Date', 'latitude', 'longitude'],\n",
      "      dtype='object')\n"
     ]
    }
   ],
   "source": [
    "#load the dataset\n",
    "df=pd.read_pickle('LocationHistorydf.pkl')\n",
    "print(df.shape)\n",
    "print(df.columns)"
   ]
  },
  {
   "cell_type": "code",
   "execution_count": 11,
   "metadata": {},
   "outputs": [
    {
     "name": "stdout",
     "output_type": "stream",
     "text": [
      "(6851, 13)\n"
     ]
    },
    {
     "data": {
      "text/html": [
       "<div>\n",
       "<style scoped>\n",
       "    .dataframe tbody tr th:only-of-type {\n",
       "        vertical-align: middle;\n",
       "    }\n",
       "\n",
       "    .dataframe tbody tr th {\n",
       "        vertical-align: top;\n",
       "    }\n",
       "\n",
       "    .dataframe thead th {\n",
       "        text-align: right;\n",
       "    }\n",
       "</style>\n",
       "<table border=\"1\" class=\"dataframe\">\n",
       "  <thead>\n",
       "    <tr style=\"text-align: right;\">\n",
       "      <th></th>\n",
       "      <th>timestampMs</th>\n",
       "      <th>latitudeE7</th>\n",
       "      <th>longitudeE7</th>\n",
       "      <th>accuracy</th>\n",
       "      <th>activity</th>\n",
       "      <th>velocity</th>\n",
       "      <th>heading</th>\n",
       "      <th>altitude</th>\n",
       "      <th>verticalAccuracy</th>\n",
       "      <th>DateTime</th>\n",
       "      <th>Date</th>\n",
       "      <th>latitude</th>\n",
       "      <th>longitude</th>\n",
       "    </tr>\n",
       "  </thead>\n",
       "  <tbody>\n",
       "    <tr>\n",
       "      <th>1000</th>\n",
       "      <td>1590096647715</td>\n",
       "      <td>310445823</td>\n",
       "      <td>-1049149780</td>\n",
       "      <td>3</td>\n",
       "      <td>[{'timestampMs': '1590096655466', 'activity': ...</td>\n",
       "      <td>2.0</td>\n",
       "      <td>288.0</td>\n",
       "      <td>1344.0</td>\n",
       "      <td>NaN</td>\n",
       "      <td>2020-05-21 21:30:47.715</td>\n",
       "      <td>2020-05-21</td>\n",
       "      <td>31.044582</td>\n",
       "      <td>-104.914978</td>\n",
       "    </tr>\n",
       "    <tr>\n",
       "      <th>1001</th>\n",
       "      <td>1590096659768</td>\n",
       "      <td>310458717</td>\n",
       "      <td>-1049192276</td>\n",
       "      <td>3</td>\n",
       "      <td>NaN</td>\n",
       "      <td>2.0</td>\n",
       "      <td>289.0</td>\n",
       "      <td>1352.0</td>\n",
       "      <td>NaN</td>\n",
       "      <td>2020-05-21 21:30:59.768</td>\n",
       "      <td>2020-05-21</td>\n",
       "      <td>31.045872</td>\n",
       "      <td>-104.919228</td>\n",
       "    </tr>\n",
       "    <tr>\n",
       "      <th>1002</th>\n",
       "      <td>1590096707715</td>\n",
       "      <td>310511360</td>\n",
       "      <td>-1049362487</td>\n",
       "      <td>3</td>\n",
       "      <td>NaN</td>\n",
       "      <td>2.0</td>\n",
       "      <td>287.0</td>\n",
       "      <td>1375.0</td>\n",
       "      <td>NaN</td>\n",
       "      <td>2020-05-21 21:31:47.715</td>\n",
       "      <td>2020-05-21</td>\n",
       "      <td>31.051136</td>\n",
       "      <td>-104.936249</td>\n",
       "    </tr>\n",
       "    <tr>\n",
       "      <th>1003</th>\n",
       "      <td>1590096723714</td>\n",
       "      <td>310528049</td>\n",
       "      <td>-1049418029</td>\n",
       "      <td>3</td>\n",
       "      <td>NaN</td>\n",
       "      <td>2.0</td>\n",
       "      <td>290.0</td>\n",
       "      <td>1388.0</td>\n",
       "      <td>NaN</td>\n",
       "      <td>2020-05-21 21:32:03.714</td>\n",
       "      <td>2020-05-21</td>\n",
       "      <td>31.052805</td>\n",
       "      <td>-104.941803</td>\n",
       "    </tr>\n",
       "    <tr>\n",
       "      <th>1004</th>\n",
       "      <td>1590096753765</td>\n",
       "      <td>310546436</td>\n",
       "      <td>-1049529876</td>\n",
       "      <td>3</td>\n",
       "      <td>NaN</td>\n",
       "      <td>2.0</td>\n",
       "      <td>284.0</td>\n",
       "      <td>1398.0</td>\n",
       "      <td>NaN</td>\n",
       "      <td>2020-05-21 21:32:33.765</td>\n",
       "      <td>2020-05-21</td>\n",
       "      <td>31.054644</td>\n",
       "      <td>-104.952988</td>\n",
       "    </tr>\n",
       "    <tr>\n",
       "      <th>1005</th>\n",
       "      <td>1590096768766</td>\n",
       "      <td>310570640</td>\n",
       "      <td>-1049577636</td>\n",
       "      <td>3</td>\n",
       "      <td>NaN</td>\n",
       "      <td>2.0</td>\n",
       "      <td>312.0</td>\n",
       "      <td>1407.0</td>\n",
       "      <td>NaN</td>\n",
       "      <td>2020-05-21 21:32:48.766</td>\n",
       "      <td>2020-05-21</td>\n",
       "      <td>31.057064</td>\n",
       "      <td>-104.957764</td>\n",
       "    </tr>\n",
       "    <tr>\n",
       "      <th>1006</th>\n",
       "      <td>1590096769764</td>\n",
       "      <td>310572834</td>\n",
       "      <td>-1049580383</td>\n",
       "      <td>3</td>\n",
       "      <td>NaN</td>\n",
       "      <td>2.0</td>\n",
       "      <td>312.0</td>\n",
       "      <td>1407.0</td>\n",
       "      <td>NaN</td>\n",
       "      <td>2020-05-21 21:32:49.764</td>\n",
       "      <td>2020-05-21</td>\n",
       "      <td>31.057283</td>\n",
       "      <td>-104.958038</td>\n",
       "    </tr>\n",
       "    <tr>\n",
       "      <th>1007</th>\n",
       "      <td>1590096785714</td>\n",
       "      <td>310602531</td>\n",
       "      <td>-1049630432</td>\n",
       "      <td>3</td>\n",
       "      <td>NaN</td>\n",
       "      <td>2.0</td>\n",
       "      <td>291.0</td>\n",
       "      <td>1410.0</td>\n",
       "      <td>NaN</td>\n",
       "      <td>2020-05-21 21:33:05.714</td>\n",
       "      <td>2020-05-21</td>\n",
       "      <td>31.060253</td>\n",
       "      <td>-104.963043</td>\n",
       "    </tr>\n",
       "    <tr>\n",
       "      <th>1008</th>\n",
       "      <td>1590096800814</td>\n",
       "      <td>310607624</td>\n",
       "      <td>-1049686355</td>\n",
       "      <td>3</td>\n",
       "      <td>[{'timestampMs': '1590096807544', 'activity': ...</td>\n",
       "      <td>2.0</td>\n",
       "      <td>268.0</td>\n",
       "      <td>1421.0</td>\n",
       "      <td>NaN</td>\n",
       "      <td>2020-05-21 21:33:20.814</td>\n",
       "      <td>2020-05-21</td>\n",
       "      <td>31.060762</td>\n",
       "      <td>-104.968636</td>\n",
       "    </tr>\n",
       "    <tr>\n",
       "      <th>1009</th>\n",
       "      <td>1590096816763</td>\n",
       "      <td>310610561</td>\n",
       "      <td>-1049747924</td>\n",
       "      <td>3</td>\n",
       "      <td>NaN</td>\n",
       "      <td>2.0</td>\n",
       "      <td>277.0</td>\n",
       "      <td>1420.0</td>\n",
       "      <td>NaN</td>\n",
       "      <td>2020-05-21 21:33:36.763</td>\n",
       "      <td>2020-05-21</td>\n",
       "      <td>31.061056</td>\n",
       "      <td>-104.974792</td>\n",
       "    </tr>\n",
       "  </tbody>\n",
       "</table>\n",
       "</div>"
      ],
      "text/plain": [
       "        timestampMs  latitudeE7  longitudeE7  accuracy  \\\n",
       "1000  1590096647715   310445823  -1049149780         3   \n",
       "1001  1590096659768   310458717  -1049192276         3   \n",
       "1002  1590096707715   310511360  -1049362487         3   \n",
       "1003  1590096723714   310528049  -1049418029         3   \n",
       "1004  1590096753765   310546436  -1049529876         3   \n",
       "1005  1590096768766   310570640  -1049577636         3   \n",
       "1006  1590096769764   310572834  -1049580383         3   \n",
       "1007  1590096785714   310602531  -1049630432         3   \n",
       "1008  1590096800814   310607624  -1049686355         3   \n",
       "1009  1590096816763   310610561  -1049747924         3   \n",
       "\n",
       "                                               activity  velocity  heading  \\\n",
       "1000  [{'timestampMs': '1590096655466', 'activity': ...       2.0    288.0   \n",
       "1001                                                NaN       2.0    289.0   \n",
       "1002                                                NaN       2.0    287.0   \n",
       "1003                                                NaN       2.0    290.0   \n",
       "1004                                                NaN       2.0    284.0   \n",
       "1005                                                NaN       2.0    312.0   \n",
       "1006                                                NaN       2.0    312.0   \n",
       "1007                                                NaN       2.0    291.0   \n",
       "1008  [{'timestampMs': '1590096807544', 'activity': ...       2.0    268.0   \n",
       "1009                                                NaN       2.0    277.0   \n",
       "\n",
       "      altitude  verticalAccuracy                DateTime        Date  \\\n",
       "1000    1344.0               NaN 2020-05-21 21:30:47.715  2020-05-21   \n",
       "1001    1352.0               NaN 2020-05-21 21:30:59.768  2020-05-21   \n",
       "1002    1375.0               NaN 2020-05-21 21:31:47.715  2020-05-21   \n",
       "1003    1388.0               NaN 2020-05-21 21:32:03.714  2020-05-21   \n",
       "1004    1398.0               NaN 2020-05-21 21:32:33.765  2020-05-21   \n",
       "1005    1407.0               NaN 2020-05-21 21:32:48.766  2020-05-21   \n",
       "1006    1407.0               NaN 2020-05-21 21:32:49.764  2020-05-21   \n",
       "1007    1410.0               NaN 2020-05-21 21:33:05.714  2020-05-21   \n",
       "1008    1421.0               NaN 2020-05-21 21:33:20.814  2020-05-21   \n",
       "1009    1420.0               NaN 2020-05-21 21:33:36.763  2020-05-21   \n",
       "\n",
       "       latitude   longitude  \n",
       "1000  31.044582 -104.914978  \n",
       "1001  31.045872 -104.919228  \n",
       "1002  31.051136 -104.936249  \n",
       "1003  31.052805 -104.941803  \n",
       "1004  31.054644 -104.952988  \n",
       "1005  31.057064 -104.957764  \n",
       "1006  31.057283 -104.958038  \n",
       "1007  31.060253 -104.963043  \n",
       "1008  31.060762 -104.968636  \n",
       "1009  31.061056 -104.974792  "
      ]
     },
     "execution_count": 11,
     "metadata": {},
     "output_type": "execute_result"
    }
   ],
   "source": [
    "#Only select the days of the trip. Luckily those days we only drove for the trip so there is no more filtering necessary.\n",
    "mask = (df['Date'] >= '2020-05-21') & (df['Date'] <= '2020-05-23')\n",
    "sdf = df.loc[mask].copy()\n",
    "sdf.reset_index(inplace=True,drop=True)\n",
    "print(sdf.shape)\n",
    "sdf.iloc[1000:1010]"
   ]
  },
  {
   "cell_type": "code",
   "execution_count": 10,
   "metadata": {
    "scrolled": false
   },
   "outputs": [
    {
     "name": "stdout",
     "output_type": "stream",
     "text": [
      "(6851, 14)\n"
     ]
    },
    {
     "data": {
      "text/html": [
       "<div>\n",
       "<style scoped>\n",
       "    .dataframe tbody tr th:only-of-type {\n",
       "        vertical-align: middle;\n",
       "    }\n",
       "\n",
       "    .dataframe tbody tr th {\n",
       "        vertical-align: top;\n",
       "    }\n",
       "\n",
       "    .dataframe thead th {\n",
       "        text-align: right;\n",
       "    }\n",
       "</style>\n",
       "<table border=\"1\" class=\"dataframe\">\n",
       "  <thead>\n",
       "    <tr style=\"text-align: right;\">\n",
       "      <th></th>\n",
       "      <th>timestampMs</th>\n",
       "      <th>latitudeE7</th>\n",
       "      <th>longitudeE7</th>\n",
       "      <th>accuracy</th>\n",
       "      <th>activity</th>\n",
       "      <th>velocity</th>\n",
       "      <th>heading</th>\n",
       "      <th>altitude</th>\n",
       "      <th>verticalAccuracy</th>\n",
       "      <th>DateTime</th>\n",
       "      <th>Date</th>\n",
       "      <th>latitude</th>\n",
       "      <th>longitude</th>\n",
       "      <th>geometry</th>\n",
       "    </tr>\n",
       "  </thead>\n",
       "  <tbody>\n",
       "    <tr>\n",
       "      <th>1000</th>\n",
       "      <td>1590096647715</td>\n",
       "      <td>310445823</td>\n",
       "      <td>-1049149780</td>\n",
       "      <td>3</td>\n",
       "      <td>[{'timestampMs': '1590096655466', 'activity': ...</td>\n",
       "      <td>2.0</td>\n",
       "      <td>288.0</td>\n",
       "      <td>1344.0</td>\n",
       "      <td>NaN</td>\n",
       "      <td>2020-05-21 21:30:47.715</td>\n",
       "      <td>2020-05-21</td>\n",
       "      <td>31.044582</td>\n",
       "      <td>-104.914978</td>\n",
       "      <td>POINT (-104.91498 31.04458)</td>\n",
       "    </tr>\n",
       "    <tr>\n",
       "      <th>1001</th>\n",
       "      <td>1590096659768</td>\n",
       "      <td>310458717</td>\n",
       "      <td>-1049192276</td>\n",
       "      <td>3</td>\n",
       "      <td>NaN</td>\n",
       "      <td>2.0</td>\n",
       "      <td>289.0</td>\n",
       "      <td>1352.0</td>\n",
       "      <td>NaN</td>\n",
       "      <td>2020-05-21 21:30:59.768</td>\n",
       "      <td>2020-05-21</td>\n",
       "      <td>31.045872</td>\n",
       "      <td>-104.919228</td>\n",
       "      <td>POINT (-104.91923 31.04587)</td>\n",
       "    </tr>\n",
       "    <tr>\n",
       "      <th>1002</th>\n",
       "      <td>1590096707715</td>\n",
       "      <td>310511360</td>\n",
       "      <td>-1049362487</td>\n",
       "      <td>3</td>\n",
       "      <td>NaN</td>\n",
       "      <td>2.0</td>\n",
       "      <td>287.0</td>\n",
       "      <td>1375.0</td>\n",
       "      <td>NaN</td>\n",
       "      <td>2020-05-21 21:31:47.715</td>\n",
       "      <td>2020-05-21</td>\n",
       "      <td>31.051136</td>\n",
       "      <td>-104.936249</td>\n",
       "      <td>POINT (-104.93625 31.05114)</td>\n",
       "    </tr>\n",
       "    <tr>\n",
       "      <th>1003</th>\n",
       "      <td>1590096723714</td>\n",
       "      <td>310528049</td>\n",
       "      <td>-1049418029</td>\n",
       "      <td>3</td>\n",
       "      <td>NaN</td>\n",
       "      <td>2.0</td>\n",
       "      <td>290.0</td>\n",
       "      <td>1388.0</td>\n",
       "      <td>NaN</td>\n",
       "      <td>2020-05-21 21:32:03.714</td>\n",
       "      <td>2020-05-21</td>\n",
       "      <td>31.052805</td>\n",
       "      <td>-104.941803</td>\n",
       "      <td>POINT (-104.94180 31.05280)</td>\n",
       "    </tr>\n",
       "    <tr>\n",
       "      <th>1004</th>\n",
       "      <td>1590096753765</td>\n",
       "      <td>310546436</td>\n",
       "      <td>-1049529876</td>\n",
       "      <td>3</td>\n",
       "      <td>NaN</td>\n",
       "      <td>2.0</td>\n",
       "      <td>284.0</td>\n",
       "      <td>1398.0</td>\n",
       "      <td>NaN</td>\n",
       "      <td>2020-05-21 21:32:33.765</td>\n",
       "      <td>2020-05-21</td>\n",
       "      <td>31.054644</td>\n",
       "      <td>-104.952988</td>\n",
       "      <td>POINT (-104.95299 31.05464)</td>\n",
       "    </tr>\n",
       "    <tr>\n",
       "      <th>1005</th>\n",
       "      <td>1590096768766</td>\n",
       "      <td>310570640</td>\n",
       "      <td>-1049577636</td>\n",
       "      <td>3</td>\n",
       "      <td>NaN</td>\n",
       "      <td>2.0</td>\n",
       "      <td>312.0</td>\n",
       "      <td>1407.0</td>\n",
       "      <td>NaN</td>\n",
       "      <td>2020-05-21 21:32:48.766</td>\n",
       "      <td>2020-05-21</td>\n",
       "      <td>31.057064</td>\n",
       "      <td>-104.957764</td>\n",
       "      <td>POINT (-104.95776 31.05706)</td>\n",
       "    </tr>\n",
       "    <tr>\n",
       "      <th>1006</th>\n",
       "      <td>1590096769764</td>\n",
       "      <td>310572834</td>\n",
       "      <td>-1049580383</td>\n",
       "      <td>3</td>\n",
       "      <td>NaN</td>\n",
       "      <td>2.0</td>\n",
       "      <td>312.0</td>\n",
       "      <td>1407.0</td>\n",
       "      <td>NaN</td>\n",
       "      <td>2020-05-21 21:32:49.764</td>\n",
       "      <td>2020-05-21</td>\n",
       "      <td>31.057283</td>\n",
       "      <td>-104.958038</td>\n",
       "      <td>POINT (-104.95804 31.05728)</td>\n",
       "    </tr>\n",
       "    <tr>\n",
       "      <th>1007</th>\n",
       "      <td>1590096785714</td>\n",
       "      <td>310602531</td>\n",
       "      <td>-1049630432</td>\n",
       "      <td>3</td>\n",
       "      <td>NaN</td>\n",
       "      <td>2.0</td>\n",
       "      <td>291.0</td>\n",
       "      <td>1410.0</td>\n",
       "      <td>NaN</td>\n",
       "      <td>2020-05-21 21:33:05.714</td>\n",
       "      <td>2020-05-21</td>\n",
       "      <td>31.060253</td>\n",
       "      <td>-104.963043</td>\n",
       "      <td>POINT (-104.96304 31.06025)</td>\n",
       "    </tr>\n",
       "    <tr>\n",
       "      <th>1008</th>\n",
       "      <td>1590096800814</td>\n",
       "      <td>310607624</td>\n",
       "      <td>-1049686355</td>\n",
       "      <td>3</td>\n",
       "      <td>[{'timestampMs': '1590096807544', 'activity': ...</td>\n",
       "      <td>2.0</td>\n",
       "      <td>268.0</td>\n",
       "      <td>1421.0</td>\n",
       "      <td>NaN</td>\n",
       "      <td>2020-05-21 21:33:20.814</td>\n",
       "      <td>2020-05-21</td>\n",
       "      <td>31.060762</td>\n",
       "      <td>-104.968636</td>\n",
       "      <td>POINT (-104.96864 31.06076)</td>\n",
       "    </tr>\n",
       "    <tr>\n",
       "      <th>1009</th>\n",
       "      <td>1590096816763</td>\n",
       "      <td>310610561</td>\n",
       "      <td>-1049747924</td>\n",
       "      <td>3</td>\n",
       "      <td>NaN</td>\n",
       "      <td>2.0</td>\n",
       "      <td>277.0</td>\n",
       "      <td>1420.0</td>\n",
       "      <td>NaN</td>\n",
       "      <td>2020-05-21 21:33:36.763</td>\n",
       "      <td>2020-05-21</td>\n",
       "      <td>31.061056</td>\n",
       "      <td>-104.974792</td>\n",
       "      <td>POINT (-104.97479 31.06106)</td>\n",
       "    </tr>\n",
       "  </tbody>\n",
       "</table>\n",
       "</div>"
      ],
      "text/plain": [
       "        timestampMs  latitudeE7  longitudeE7  accuracy  \\\n",
       "1000  1590096647715   310445823  -1049149780         3   \n",
       "1001  1590096659768   310458717  -1049192276         3   \n",
       "1002  1590096707715   310511360  -1049362487         3   \n",
       "1003  1590096723714   310528049  -1049418029         3   \n",
       "1004  1590096753765   310546436  -1049529876         3   \n",
       "1005  1590096768766   310570640  -1049577636         3   \n",
       "1006  1590096769764   310572834  -1049580383         3   \n",
       "1007  1590096785714   310602531  -1049630432         3   \n",
       "1008  1590096800814   310607624  -1049686355         3   \n",
       "1009  1590096816763   310610561  -1049747924         3   \n",
       "\n",
       "                                               activity  velocity  heading  \\\n",
       "1000  [{'timestampMs': '1590096655466', 'activity': ...       2.0    288.0   \n",
       "1001                                                NaN       2.0    289.0   \n",
       "1002                                                NaN       2.0    287.0   \n",
       "1003                                                NaN       2.0    290.0   \n",
       "1004                                                NaN       2.0    284.0   \n",
       "1005                                                NaN       2.0    312.0   \n",
       "1006                                                NaN       2.0    312.0   \n",
       "1007                                                NaN       2.0    291.0   \n",
       "1008  [{'timestampMs': '1590096807544', 'activity': ...       2.0    268.0   \n",
       "1009                                                NaN       2.0    277.0   \n",
       "\n",
       "      altitude  verticalAccuracy                DateTime        Date  \\\n",
       "1000    1344.0               NaN 2020-05-21 21:30:47.715  2020-05-21   \n",
       "1001    1352.0               NaN 2020-05-21 21:30:59.768  2020-05-21   \n",
       "1002    1375.0               NaN 2020-05-21 21:31:47.715  2020-05-21   \n",
       "1003    1388.0               NaN 2020-05-21 21:32:03.714  2020-05-21   \n",
       "1004    1398.0               NaN 2020-05-21 21:32:33.765  2020-05-21   \n",
       "1005    1407.0               NaN 2020-05-21 21:32:48.766  2020-05-21   \n",
       "1006    1407.0               NaN 2020-05-21 21:32:49.764  2020-05-21   \n",
       "1007    1410.0               NaN 2020-05-21 21:33:05.714  2020-05-21   \n",
       "1008    1421.0               NaN 2020-05-21 21:33:20.814  2020-05-21   \n",
       "1009    1420.0               NaN 2020-05-21 21:33:36.763  2020-05-21   \n",
       "\n",
       "       latitude   longitude                     geometry  \n",
       "1000  31.044582 -104.914978  POINT (-104.91498 31.04458)  \n",
       "1001  31.045872 -104.919228  POINT (-104.91923 31.04587)  \n",
       "1002  31.051136 -104.936249  POINT (-104.93625 31.05114)  \n",
       "1003  31.052805 -104.941803  POINT (-104.94180 31.05280)  \n",
       "1004  31.054644 -104.952988  POINT (-104.95299 31.05464)  \n",
       "1005  31.057064 -104.957764  POINT (-104.95776 31.05706)  \n",
       "1006  31.057283 -104.958038  POINT (-104.95804 31.05728)  \n",
       "1007  31.060253 -104.963043  POINT (-104.96304 31.06025)  \n",
       "1008  31.060762 -104.968636  POINT (-104.96864 31.06076)  \n",
       "1009  31.061056 -104.974792  POINT (-104.97479 31.06106)  "
      ]
     },
     "execution_count": 10,
     "metadata": {},
     "output_type": "execute_result"
    }
   ],
   "source": [
    "#create the geodataframe\n",
    "gdf = gpd.GeoDataFrame(sdf, geometry=gpd.points_from_xy(sdf.longitude, sdf.latitude))\n",
    "print(gdf.shape)\n",
    "gdf.iloc[1000:1010]"
   ]
  },
  {
   "cell_type": "code",
   "execution_count": 56,
   "metadata": {},
   "outputs": [
    {
     "data": {
      "text/html": [
       "<div>\n",
       "<style scoped>\n",
       "    .dataframe tbody tr th:only-of-type {\n",
       "        vertical-align: middle;\n",
       "    }\n",
       "\n",
       "    .dataframe tbody tr th {\n",
       "        vertical-align: top;\n",
       "    }\n",
       "\n",
       "    .dataframe thead th {\n",
       "        text-align: right;\n",
       "    }\n",
       "</style>\n",
       "<table border=\"1\" class=\"dataframe\">\n",
       "  <thead>\n",
       "    <tr style=\"text-align: right;\">\n",
       "      <th></th>\n",
       "      <th>latitude</th>\n",
       "      <th>longitude</th>\n",
       "    </tr>\n",
       "  </thead>\n",
       "  <tbody>\n",
       "    <tr>\n",
       "      <th>666</th>\n",
       "      <td>31.403694</td>\n",
       "      <td>-103.520645</td>\n",
       "    </tr>\n",
       "  </tbody>\n",
       "</table>\n",
       "</div>"
      ],
      "text/plain": [
       "      latitude   longitude\n",
       "666  31.403694 -103.520645"
      ]
     },
     "metadata": {},
     "output_type": "display_data"
    },
    {
     "data": {
      "text/html": [
       "<div>\n",
       "<style scoped>\n",
       "    .dataframe tbody tr th:only-of-type {\n",
       "        vertical-align: middle;\n",
       "    }\n",
       "\n",
       "    .dataframe tbody tr th {\n",
       "        vertical-align: top;\n",
       "    }\n",
       "\n",
       "    .dataframe thead th {\n",
       "        text-align: right;\n",
       "    }\n",
       "</style>\n",
       "<table border=\"1\" class=\"dataframe\">\n",
       "  <thead>\n",
       "    <tr style=\"text-align: right;\">\n",
       "      <th></th>\n",
       "      <th>latitude</th>\n",
       "      <th>longitude</th>\n",
       "    </tr>\n",
       "  </thead>\n",
       "  <tbody>\n",
       "    <tr>\n",
       "      <th>907</th>\n",
       "      <td>31.063368</td>\n",
       "      <td>-104.50209</td>\n",
       "    </tr>\n",
       "  </tbody>\n",
       "</table>\n",
       "</div>"
      ],
      "text/plain": [
       "      latitude  longitude\n",
       "907  31.063368 -104.50209"
      ]
     },
     "metadata": {},
     "output_type": "display_data"
    },
    {
     "data": {
      "text/html": [
       "<div>\n",
       "<style scoped>\n",
       "    .dataframe tbody tr th:only-of-type {\n",
       "        vertical-align: middle;\n",
       "    }\n",
       "\n",
       "    .dataframe tbody tr th {\n",
       "        vertical-align: top;\n",
       "    }\n",
       "\n",
       "    .dataframe thead th {\n",
       "        text-align: right;\n",
       "    }\n",
       "</style>\n",
       "<table border=\"1\" class=\"dataframe\">\n",
       "  <thead>\n",
       "    <tr style=\"text-align: right;\">\n",
       "      <th></th>\n",
       "      <th>latitude</th>\n",
       "      <th>longitude</th>\n",
       "    </tr>\n",
       "  </thead>\n",
       "  <tbody>\n",
       "    <tr>\n",
       "      <th>1340</th>\n",
       "      <td>31.704374</td>\n",
       "      <td>-106.280731</td>\n",
       "    </tr>\n",
       "  </tbody>\n",
       "</table>\n",
       "</div>"
      ],
      "text/plain": [
       "       latitude   longitude\n",
       "1340  31.704374 -106.280731"
      ]
     },
     "metadata": {},
     "output_type": "display_data"
    },
    {
     "data": {
      "text/html": [
       "<div>\n",
       "<style scoped>\n",
       "    .dataframe tbody tr th:only-of-type {\n",
       "        vertical-align: middle;\n",
       "    }\n",
       "\n",
       "    .dataframe tbody tr th {\n",
       "        vertical-align: top;\n",
       "    }\n",
       "\n",
       "    .dataframe thead th {\n",
       "        text-align: right;\n",
       "    }\n",
       "</style>\n",
       "<table border=\"1\" class=\"dataframe\">\n",
       "  <thead>\n",
       "    <tr style=\"text-align: right;\">\n",
       "      <th></th>\n",
       "      <th>latitude</th>\n",
       "      <th>longitude</th>\n",
       "    </tr>\n",
       "  </thead>\n",
       "  <tbody>\n",
       "    <tr>\n",
       "      <th>1809</th>\n",
       "      <td>32.271744</td>\n",
       "      <td>-107.753456</td>\n",
       "    </tr>\n",
       "  </tbody>\n",
       "</table>\n",
       "</div>"
      ],
      "text/plain": [
       "       latitude   longitude\n",
       "1809  32.271744 -107.753456"
      ]
     },
     "metadata": {},
     "output_type": "display_data"
    },
    {
     "data": {
      "text/html": [
       "<div>\n",
       "<style scoped>\n",
       "    .dataframe tbody tr th:only-of-type {\n",
       "        vertical-align: middle;\n",
       "    }\n",
       "\n",
       "    .dataframe tbody tr th {\n",
       "        vertical-align: top;\n",
       "    }\n",
       "\n",
       "    .dataframe thead th {\n",
       "        text-align: right;\n",
       "    }\n",
       "</style>\n",
       "<table border=\"1\" class=\"dataframe\">\n",
       "  <thead>\n",
       "    <tr style=\"text-align: right;\">\n",
       "      <th></th>\n",
       "      <th>latitude</th>\n",
       "      <th>longitude</th>\n",
       "    </tr>\n",
       "  </thead>\n",
       "  <tbody>\n",
       "    <tr>\n",
       "      <th>2300</th>\n",
       "      <td>32.265652</td>\n",
       "      <td>-109.84201</td>\n",
       "    </tr>\n",
       "  </tbody>\n",
       "</table>\n",
       "</div>"
      ],
      "text/plain": [
       "       latitude  longitude\n",
       "2300  32.265652 -109.84201"
      ]
     },
     "metadata": {},
     "output_type": "display_data"
    },
    {
     "data": {
      "text/html": [
       "<div>\n",
       "<style scoped>\n",
       "    .dataframe tbody tr th:only-of-type {\n",
       "        vertical-align: middle;\n",
       "    }\n",
       "\n",
       "    .dataframe tbody tr th {\n",
       "        vertical-align: top;\n",
       "    }\n",
       "\n",
       "    .dataframe thead th {\n",
       "        text-align: right;\n",
       "    }\n",
       "</style>\n",
       "<table border=\"1\" class=\"dataframe\">\n",
       "  <thead>\n",
       "    <tr style=\"text-align: right;\">\n",
       "      <th></th>\n",
       "      <th>latitude</th>\n",
       "      <th>longitude</th>\n",
       "    </tr>\n",
       "  </thead>\n",
       "  <tbody>\n",
       "    <tr>\n",
       "      <th>2851</th>\n",
       "      <td>32.27671</td>\n",
       "      <td>-110.949974</td>\n",
       "    </tr>\n",
       "  </tbody>\n",
       "</table>\n",
       "</div>"
      ],
      "text/plain": [
       "      latitude   longitude\n",
       "2851  32.27671 -110.949974"
      ]
     },
     "metadata": {},
     "output_type": "display_data"
    },
    {
     "data": {
      "text/html": [
       "<div>\n",
       "<style scoped>\n",
       "    .dataframe tbody tr th:only-of-type {\n",
       "        vertical-align: middle;\n",
       "    }\n",
       "\n",
       "    .dataframe tbody tr th {\n",
       "        vertical-align: top;\n",
       "    }\n",
       "\n",
       "    .dataframe thead th {\n",
       "        text-align: right;\n",
       "    }\n",
       "</style>\n",
       "<table border=\"1\" class=\"dataframe\">\n",
       "  <thead>\n",
       "    <tr style=\"text-align: right;\">\n",
       "      <th></th>\n",
       "      <th>latitude</th>\n",
       "      <th>longitude</th>\n",
       "    </tr>\n",
       "  </thead>\n",
       "  <tbody>\n",
       "    <tr>\n",
       "      <th>3272</th>\n",
       "      <td>33.280353</td>\n",
       "      <td>-111.962288</td>\n",
       "    </tr>\n",
       "  </tbody>\n",
       "</table>\n",
       "</div>"
      ],
      "text/plain": [
       "       latitude   longitude\n",
       "3272  33.280353 -111.962288"
      ]
     },
     "metadata": {},
     "output_type": "display_data"
    },
    {
     "data": {
      "text/html": [
       "<div>\n",
       "<style scoped>\n",
       "    .dataframe tbody tr th:only-of-type {\n",
       "        vertical-align: middle;\n",
       "    }\n",
       "\n",
       "    .dataframe tbody tr th {\n",
       "        vertical-align: top;\n",
       "    }\n",
       "\n",
       "    .dataframe thead th {\n",
       "        text-align: right;\n",
       "    }\n",
       "</style>\n",
       "<table border=\"1\" class=\"dataframe\">\n",
       "  <thead>\n",
       "    <tr style=\"text-align: right;\">\n",
       "      <th></th>\n",
       "      <th>latitude</th>\n",
       "      <th>longitude</th>\n",
       "    </tr>\n",
       "  </thead>\n",
       "  <tbody>\n",
       "    <tr>\n",
       "      <th>3919</th>\n",
       "      <td>34.699753</td>\n",
       "      <td>-113.610016</td>\n",
       "    </tr>\n",
       "  </tbody>\n",
       "</table>\n",
       "</div>"
      ],
      "text/plain": [
       "       latitude   longitude\n",
       "3919  34.699753 -113.610016"
      ]
     },
     "metadata": {},
     "output_type": "display_data"
    },
    {
     "data": {
      "text/html": [
       "<div>\n",
       "<style scoped>\n",
       "    .dataframe tbody tr th:only-of-type {\n",
       "        vertical-align: middle;\n",
       "    }\n",
       "\n",
       "    .dataframe tbody tr th {\n",
       "        vertical-align: top;\n",
       "    }\n",
       "\n",
       "    .dataframe thead th {\n",
       "        text-align: right;\n",
       "    }\n",
       "</style>\n",
       "<table border=\"1\" class=\"dataframe\">\n",
       "  <thead>\n",
       "    <tr style=\"text-align: right;\">\n",
       "      <th></th>\n",
       "      <th>latitude</th>\n",
       "      <th>longitude</th>\n",
       "    </tr>\n",
       "  </thead>\n",
       "  <tbody>\n",
       "    <tr>\n",
       "      <th>4638</th>\n",
       "      <td>36.218567</td>\n",
       "      <td>-115.250992</td>\n",
       "    </tr>\n",
       "  </tbody>\n",
       "</table>\n",
       "</div>"
      ],
      "text/plain": [
       "       latitude   longitude\n",
       "4638  36.218567 -115.250992"
      ]
     },
     "metadata": {},
     "output_type": "display_data"
    },
    {
     "data": {
      "text/html": [
       "<div>\n",
       "<style scoped>\n",
       "    .dataframe tbody tr th:only-of-type {\n",
       "        vertical-align: middle;\n",
       "    }\n",
       "\n",
       "    .dataframe tbody tr th {\n",
       "        vertical-align: top;\n",
       "    }\n",
       "\n",
       "    .dataframe thead th {\n",
       "        text-align: right;\n",
       "    }\n",
       "</style>\n",
       "<table border=\"1\" class=\"dataframe\">\n",
       "  <thead>\n",
       "    <tr style=\"text-align: right;\">\n",
       "      <th></th>\n",
       "      <th>latitude</th>\n",
       "      <th>longitude</th>\n",
       "    </tr>\n",
       "  </thead>\n",
       "  <tbody>\n",
       "    <tr>\n",
       "      <th>4977</th>\n",
       "      <td>36.643954</td>\n",
       "      <td>-116.395781</td>\n",
       "    </tr>\n",
       "  </tbody>\n",
       "</table>\n",
       "</div>"
      ],
      "text/plain": [
       "       latitude   longitude\n",
       "4977  36.643954 -116.395781"
      ]
     },
     "metadata": {},
     "output_type": "display_data"
    },
    {
     "data": {
      "text/html": [
       "<div>\n",
       "<style scoped>\n",
       "    .dataframe tbody tr th:only-of-type {\n",
       "        vertical-align: middle;\n",
       "    }\n",
       "\n",
       "    .dataframe tbody tr th {\n",
       "        vertical-align: top;\n",
       "    }\n",
       "\n",
       "    .dataframe thead th {\n",
       "        text-align: right;\n",
       "    }\n",
       "</style>\n",
       "<table border=\"1\" class=\"dataframe\">\n",
       "  <thead>\n",
       "    <tr style=\"text-align: right;\">\n",
       "      <th></th>\n",
       "      <th>latitude</th>\n",
       "      <th>longitude</th>\n",
       "    </tr>\n",
       "  </thead>\n",
       "  <tbody>\n",
       "    <tr>\n",
       "      <th>5557</th>\n",
       "      <td>38.056652</td>\n",
       "      <td>-117.216118</td>\n",
       "    </tr>\n",
       "  </tbody>\n",
       "</table>\n",
       "</div>"
      ],
      "text/plain": [
       "       latitude   longitude\n",
       "5557  38.056652 -117.216118"
      ]
     },
     "metadata": {},
     "output_type": "display_data"
    },
    {
     "data": {
      "text/html": [
       "<div>\n",
       "<style scoped>\n",
       "    .dataframe tbody tr th:only-of-type {\n",
       "        vertical-align: middle;\n",
       "    }\n",
       "\n",
       "    .dataframe tbody tr th {\n",
       "        vertical-align: top;\n",
       "    }\n",
       "\n",
       "    .dataframe thead th {\n",
       "        text-align: right;\n",
       "    }\n",
       "</style>\n",
       "<table border=\"1\" class=\"dataframe\">\n",
       "  <thead>\n",
       "    <tr style=\"text-align: right;\">\n",
       "      <th></th>\n",
       "      <th>latitude</th>\n",
       "      <th>longitude</th>\n",
       "    </tr>\n",
       "  </thead>\n",
       "  <tbody>\n",
       "    <tr>\n",
       "      <th>6016</th>\n",
       "      <td>38.536022</td>\n",
       "      <td>-118.63002</td>\n",
       "    </tr>\n",
       "  </tbody>\n",
       "</table>\n",
       "</div>"
      ],
      "text/plain": [
       "       latitude  longitude\n",
       "6016  38.536022 -118.63002"
      ]
     },
     "metadata": {},
     "output_type": "display_data"
    }
   ],
   "source": [
    "#Find the rows corresponding to each stop. I found the longitude for each stop (since the trip was mostly east-west, the \n",
    "#longitude was sufficient).  The used argsort to find the row that had a longitude closest to the stop's longitude.\n",
    "#I used this to color the legs of the trip.\n",
    "a = -103.520662\n",
    "b = -104.502089\n",
    "c = -106.280812\n",
    "d = -107.753511\n",
    "e = -109.842006\n",
    "f = -110.949974\n",
    "g = -111.962290\n",
    "h = -113.610015\n",
    "i = -115.250982\n",
    "j = -116.395796\n",
    "k = -117.216111\n",
    "l = -118.630112\n",
    "display(gdf.loc[(gdf['longitude']-a).abs().argsort()[:1],['latitude','longitude']])\n",
    "display(gdf.loc[(gdf['longitude']-b).abs().argsort()[:1],['latitude','longitude']])\n",
    "display(gdf.loc[(gdf['longitude']-c).abs().argsort()[:1],['latitude','longitude']])\n",
    "display(gdf.loc[(gdf['longitude']-d).abs().argsort()[:1],['latitude','longitude']])\n",
    "display(gdf.loc[(gdf['longitude']-e).abs().argsort()[:1],['latitude','longitude']])\n",
    "display(gdf.loc[(gdf['longitude']-f).abs().argsort()[:1],['latitude','longitude']])\n",
    "display(gdf.loc[(gdf['longitude']-g).abs().argsort()[:1],['latitude','longitude']])\n",
    "display(gdf.loc[(gdf['longitude']-h).abs().argsort()[:1],['latitude','longitude']])\n",
    "display(gdf.loc[(gdf['longitude']-i).abs().argsort()[:1],['latitude','longitude']])\n",
    "display(gdf.loc[(gdf['longitude']-j).abs().argsort()[:1],['latitude','longitude']])\n",
    "display(gdf.loc[(gdf['longitude']-k).abs().argsort()[:1],['latitude','longitude']])\n",
    "display(gdf.loc[(gdf['longitude']-l).abs().argsort()[:1],['latitude','longitude']])"
   ]
  },
  {
   "cell_type": "code",
   "execution_count": 75,
   "metadata": {},
   "outputs": [
    {
     "data": {
      "text/markdown": [
       "<text style=color:#FDD680>#FDD680</text>"
      ],
      "text/plain": [
       "<IPython.core.display.Markdown object>"
      ]
     },
     "metadata": {},
     "output_type": "display_data"
    },
    {
     "data": {
      "text/markdown": [
       "<text style=color:#F8696B>#F8696B</text>"
      ],
      "text/plain": [
       "<IPython.core.display.Markdown object>"
      ]
     },
     "metadata": {},
     "output_type": "display_data"
    },
    {
     "data": {
      "text/markdown": [
       "<text style=color:#C9DC81>#C9DC81</text>"
      ],
      "text/plain": [
       "<IPython.core.display.Markdown object>"
      ]
     },
     "metadata": {},
     "output_type": "display_data"
    },
    {
     "data": {
      "text/markdown": [
       "<text style=color:#E2E383>#E2E383</text>"
      ],
      "text/plain": [
       "<IPython.core.display.Markdown object>"
      ]
     },
     "metadata": {},
     "output_type": "display_data"
    },
    {
     "data": {
      "text/markdown": [
       "<text style=color:#FBEA84>#FBEA84</text>"
      ],
      "text/plain": [
       "<IPython.core.display.Markdown object>"
      ]
     },
     "metadata": {},
     "output_type": "display_data"
    },
    {
     "data": {
      "text/markdown": [
       "<text style=color:#FA8E72>#FA8E72</text>"
      ],
      "text/plain": [
       "<IPython.core.display.Markdown object>"
      ]
     },
     "metadata": {},
     "output_type": "display_data"
    },
    {
     "data": {
      "text/markdown": [
       "<text style=color:#F9806F>#F9806F</text>"
      ],
      "text/plain": [
       "<IPython.core.display.Markdown object>"
      ]
     },
     "metadata": {},
     "output_type": "display_data"
    },
    {
     "data": {
      "text/markdown": [
       "<text style=color:#83C87D>#83C87D</text>"
      ],
      "text/plain": [
       "<IPython.core.display.Markdown object>"
      ]
     },
     "metadata": {},
     "output_type": "display_data"
    },
    {
     "data": {
      "text/markdown": [
       "<text style=color:#63BE7B>#63BE7B</text>"
      ],
      "text/plain": [
       "<IPython.core.display.Markdown object>"
      ]
     },
     "metadata": {},
     "output_type": "display_data"
    },
    {
     "data": {
      "text/markdown": [
       "<text style=color:#FEE783>#FEE783</text>"
      ],
      "text/plain": [
       "<IPython.core.display.Markdown object>"
      ]
     },
     "metadata": {},
     "output_type": "display_data"
    },
    {
     "data": {
      "text/markdown": [
       "<text style=color:#ABD380>#ABD380</text>"
      ],
      "text/plain": [
       "<IPython.core.display.Markdown object>"
      ]
     },
     "metadata": {},
     "output_type": "display_data"
    },
    {
     "data": {
      "text/markdown": [
       "<text style=color:#000000>#000000</text>"
      ],
      "text/plain": [
       "<IPython.core.display.Markdown object>"
      ]
     },
     "metadata": {},
     "output_type": "display_data"
    }
   ],
   "source": [
    "#Colors were made in excel (conditional formatting of mpg) and codes were retrieved from powerpoint. (see GasPrices.xlsx)\n",
    "gdf.loc[:666,'colors'] = '#FDD680'\n",
    "gdf.loc[666:906,'colors'] = '#F8696B'\n",
    "gdf.loc[906:1335,'colors'] = '#C9DC81'\n",
    "gdf.loc[1335:1809,'colors'] = '#E2E383'\n",
    "gdf.loc[1809:2295,'colors'] = '#FBEA84'\n",
    "gdf.loc[2295:2851,'colors'] = '#FA8E72'\n",
    "gdf.loc[2851:3272,'colors'] = '#F9806F'\n",
    "gdf.loc[3272:3919,'colors'] = '#83C87D'\n",
    "gdf.loc[3919:4638,'colors'] = '#63BE7B'\n",
    "gdf.loc[4638:4975,'colors'] = '#FEE783'\n",
    "gdf.loc[4975:5557,'colors'] = '#FA8E72'\n",
    "gdf.loc[5557:6016,'colors'] = '#ABD380'\n",
    "gdf.loc[6016:,'colors'] = '#000000'\n",
    "\n",
    "for tag in gdf['colors'].unique():    \n",
    "    display(Markdown(('<text style=color:{}>{}</text>'.format(tag,tag))))"
   ]
  },
  {
   "cell_type": "code",
   "execution_count": 49,
   "metadata": {},
   "outputs": [
    {
     "data": {
      "text/plain": [
       "0       21\n",
       "1       21\n",
       "2       21\n",
       "3       21\n",
       "4       21\n",
       "        ..\n",
       "6846     5\n",
       "6847     5\n",
       "6848     5\n",
       "6849     5\n",
       "6850     5\n",
       "Name: size, Length: 6851, dtype: object"
      ]
     },
     "execution_count": 49,
     "metadata": {},
     "output_type": "execute_result"
    }
   ],
   "source": [
    "#I played around with changing the size but it wasn't initially successful so I dropped the idea.\n",
    "#Still might be cool to change size with elevation change/average speed/average wind speed since those seemed to have big\n",
    "#impacts on mpg\n",
    "gdf.loc[:666,'size'] = 21\n",
    "gdf.loc[666:906,'size'] = 5\n",
    "gdf.loc[906:1335,'size'] = 38\n",
    "gdf.loc[1335:1809,'size'] = 34\n",
    "gdf.loc[1809:2295,'size'] = 30\n",
    "gdf.loc[2295:2851,'size'] = 13\n",
    "gdf.loc[2851:3272,'size'] = 9\n",
    "gdf.loc[3272:3919,'size'] = 46\n",
    "gdf.loc[3919:4638,'size'] = 50\n",
    "gdf.loc[4638:4975,'size'] = 25\n",
    "gdf.loc[4975:5557,'size'] = 17\n",
    "gdf.loc[5557:6016,'size'] = 42\n",
    "gdf.loc[6016:,'size'] = 5\n",
    "\n",
    "gdf['size']"
   ]
  },
  {
   "cell_type": "code",
   "execution_count": 79,
   "metadata": {},
   "outputs": [
    {
     "data": {
      "text/plain": [
       "<matplotlib.axes._subplots.AxesSubplot at 0x25808e7bcf8>"
      ]
     },
     "execution_count": 79,
     "metadata": {},
     "output_type": "execute_result"
    },
    {
     "data": {
      "image/png": "[encoded data removed]",
      "text/plain": [
       "<Figure size 432x288 with 1 Axes>"
      ]
     },
     "metadata": {
      "needs_background": "light"
     },
     "output_type": "display_data"
    }
   ],
   "source": [
    "#load map of NV, AZ, NM, and TX and call it map_df\n",
    "map_df = gpd.read_file('StateMap\\st99_d00.shp')\n",
    "statestokeep=['Nevada', 'Arizona','New Mexico', 'Texas']\n",
    "map_df = map_df[map_df['NAME'].isin(statestokeep)]\n",
    "map_df.plot()"
   ]
  },
  {
   "cell_type": "code",
   "execution_count": 78,
   "metadata": {
    "scrolled": false
   },
   "outputs": [
    {
     "data": {
      "image/png": "[encoded data removed]",
      "text/plain": [
       "<Figure size 1440x720 with 1 Axes>"
      ]
     },
     "metadata": {
      "needs_background": "light"
     },
     "output_type": "display_data"
    }
   ],
   "source": [
    "#combine for the finished product.\n",
    "ax = map_df.plot(color='grey', edgecolor='white',figsize=(20,10)) #states map\n",
    "gdf.plot(ax=ax, color=gdf['colors'], markersize=10) #route map\n",
    "\n",
    "plt.savefig('MtR_mapRaw.png', dpi=400) #save for editing in Inkscape\n",
    "plt.show()"
   ]
  }
 ],
 "metadata": {
  "kernelspec": {
   "display_name": "Python 3",
   "language": "python",
   "name": "python3"
  },
  "language_info": {
   "codemirror_mode": {
    "name": "ipython",
    "version": 3
   },
   "file_extension": ".py",
   "mimetype": "text/x-python",
   "name": "python",
   "nbconvert_exporter": "python",
   "pygments_lexer": "ipython3",
   "version": "3.6.10"
  }
 },
 "nbformat": 4,
 "nbformat_minor": 2
}
